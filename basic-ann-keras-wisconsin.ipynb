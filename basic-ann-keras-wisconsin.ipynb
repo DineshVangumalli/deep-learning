{
 "cells": [
  {
   "cell_type": "code",
   "execution_count": 30,
   "metadata": {
    "collapsed": true
   },
   "outputs": [],
   "source": [
    "%matplotlib inline\n",
    "import pandas as pd\n",
    "import numpy as np\n",
    "import matplotlib.pyplot as plt\n",
    "from mpl_toolkits.mplot3d import Axes3D\n",
    "from keras.models import Sequential\n",
    "from keras.layers import Dense\n",
    "from keras.wrappers.scikit_learn import KerasClassifier\n",
    "from keras.utils import np_utils\n",
    "from sklearn.model_selection import cross_val_score\n",
    "from sklearn.model_selection import KFold\n",
    "from sklearn.preprocessing import LabelEncoder\n",
    "from sklearn.pipeline import Pipeline\n",
    "from sklearn.model_selection import StratifiedKFold\n",
    "from sklearn.model_selection import train_test_split\n",
    "from keras.optimizers import SGD, Adam"
   ]
  },
  {
   "cell_type": "markdown",
   "metadata": {},
   "source": [
    "##### About Data\n",
    "Wisconsin Breast Cancer dataset has 699 observations collected using fine-needle tissue from a mass under skin. It has 11 variables of which nine are predictor variables (cytological characteristics used to identify mass as benign or malign), ID and a class variable (has values 2 for benign, 4 for malignant). 458 of the samples are benign and 241 are malignant. <br/>\n",
    "\n",
    "There are 16 samples with missing data. Data file doesn't have column names and they are listed in a separate file. <br/>\n",
    "'class' variable is the outcome (2=benign, 4=malignant)."
   ]
  },
  {
   "cell_type": "code",
   "execution_count": 31,
   "metadata": {},
   "outputs": [
    {
     "data": {
      "text/html": [
       "<div>\n",
       "<style>\n",
       "    .dataframe thead tr:only-child th {\n",
       "        text-align: right;\n",
       "    }\n",
       "\n",
       "    .dataframe thead th {\n",
       "        text-align: left;\n",
       "    }\n",
       "\n",
       "    .dataframe tbody tr th {\n",
       "        vertical-align: top;\n",
       "    }\n",
       "</style>\n",
       "<table border=\"1\" class=\"dataframe\">\n",
       "  <thead>\n",
       "    <tr style=\"text-align: right;\">\n",
       "      <th></th>\n",
       "      <th>0</th>\n",
       "      <th>1</th>\n",
       "      <th>2</th>\n",
       "      <th>3</th>\n",
       "      <th>4</th>\n",
       "      <th>5</th>\n",
       "      <th>6</th>\n",
       "      <th>7</th>\n",
       "      <th>8</th>\n",
       "      <th>9</th>\n",
       "      <th>10</th>\n",
       "    </tr>\n",
       "  </thead>\n",
       "  <tbody>\n",
       "    <tr>\n",
       "      <th>0</th>\n",
       "      <td>1000025</td>\n",
       "      <td>5</td>\n",
       "      <td>1</td>\n",
       "      <td>1</td>\n",
       "      <td>1</td>\n",
       "      <td>2</td>\n",
       "      <td>1</td>\n",
       "      <td>3</td>\n",
       "      <td>1</td>\n",
       "      <td>1</td>\n",
       "      <td>2</td>\n",
       "    </tr>\n",
       "    <tr>\n",
       "      <th>1</th>\n",
       "      <td>1002945</td>\n",
       "      <td>5</td>\n",
       "      <td>4</td>\n",
       "      <td>4</td>\n",
       "      <td>5</td>\n",
       "      <td>7</td>\n",
       "      <td>10</td>\n",
       "      <td>3</td>\n",
       "      <td>2</td>\n",
       "      <td>1</td>\n",
       "      <td>2</td>\n",
       "    </tr>\n",
       "    <tr>\n",
       "      <th>2</th>\n",
       "      <td>1015425</td>\n",
       "      <td>3</td>\n",
       "      <td>1</td>\n",
       "      <td>1</td>\n",
       "      <td>1</td>\n",
       "      <td>2</td>\n",
       "      <td>2</td>\n",
       "      <td>3</td>\n",
       "      <td>1</td>\n",
       "      <td>1</td>\n",
       "      <td>2</td>\n",
       "    </tr>\n",
       "    <tr>\n",
       "      <th>3</th>\n",
       "      <td>1016277</td>\n",
       "      <td>6</td>\n",
       "      <td>8</td>\n",
       "      <td>8</td>\n",
       "      <td>1</td>\n",
       "      <td>3</td>\n",
       "      <td>4</td>\n",
       "      <td>3</td>\n",
       "      <td>7</td>\n",
       "      <td>1</td>\n",
       "      <td>2</td>\n",
       "    </tr>\n",
       "    <tr>\n",
       "      <th>4</th>\n",
       "      <td>1017023</td>\n",
       "      <td>4</td>\n",
       "      <td>1</td>\n",
       "      <td>1</td>\n",
       "      <td>3</td>\n",
       "      <td>2</td>\n",
       "      <td>1</td>\n",
       "      <td>3</td>\n",
       "      <td>1</td>\n",
       "      <td>1</td>\n",
       "      <td>2</td>\n",
       "    </tr>\n",
       "  </tbody>\n",
       "</table>\n",
       "</div>"
      ],
      "text/plain": [
       "        0   1   2   3   4   5   6   7   8   9   10\n",
       "0  1000025   5   1   1   1   2   1   3   1   1   2\n",
       "1  1002945   5   4   4   5   7  10   3   2   1   2\n",
       "2  1015425   3   1   1   1   2   2   3   1   1   2\n",
       "3  1016277   6   8   8   1   3   4   3   7   1   2\n",
       "4  1017023   4   1   1   3   2   1   3   1   1   2"
      ]
     },
     "execution_count": 31,
     "metadata": {},
     "output_type": "execute_result"
    }
   ],
   "source": [
    "data = pd.read_csv('data/breast-cancer-wisconsin.data.txt', sep=\",\", header=None)\n",
    "data.head()"
   ]
  },
  {
   "cell_type": "markdown",
   "metadata": {},
   "source": [
    "###### Adding column headers to data"
   ]
  },
  {
   "cell_type": "code",
   "execution_count": 32,
   "metadata": {},
   "outputs": [
    {
     "data": {
      "text/html": [
       "<div>\n",
       "<style>\n",
       "    .dataframe thead tr:only-child th {\n",
       "        text-align: right;\n",
       "    }\n",
       "\n",
       "    .dataframe thead th {\n",
       "        text-align: left;\n",
       "    }\n",
       "\n",
       "    .dataframe tbody tr th {\n",
       "        vertical-align: top;\n",
       "    }\n",
       "</style>\n",
       "<table border=\"1\" class=\"dataframe\">\n",
       "  <thead>\n",
       "    <tr style=\"text-align: right;\">\n",
       "      <th></th>\n",
       "      <th>ID</th>\n",
       "      <th>clumpThickness</th>\n",
       "      <th>sizeUniformity</th>\n",
       "      <th>shapeUniformity</th>\n",
       "      <th>maginalAdhesion</th>\n",
       "      <th>singleEpithelialCellSize</th>\n",
       "      <th>bareNuclei</th>\n",
       "      <th>blandChromatin</th>\n",
       "      <th>normalNucleoli</th>\n",
       "      <th>mitosis</th>\n",
       "      <th>class</th>\n",
       "    </tr>\n",
       "  </thead>\n",
       "  <tbody>\n",
       "    <tr>\n",
       "      <th>0</th>\n",
       "      <td>1000025</td>\n",
       "      <td>5</td>\n",
       "      <td>1</td>\n",
       "      <td>1</td>\n",
       "      <td>1</td>\n",
       "      <td>2</td>\n",
       "      <td>1</td>\n",
       "      <td>3</td>\n",
       "      <td>1</td>\n",
       "      <td>1</td>\n",
       "      <td>2</td>\n",
       "    </tr>\n",
       "    <tr>\n",
       "      <th>1</th>\n",
       "      <td>1002945</td>\n",
       "      <td>5</td>\n",
       "      <td>4</td>\n",
       "      <td>4</td>\n",
       "      <td>5</td>\n",
       "      <td>7</td>\n",
       "      <td>10</td>\n",
       "      <td>3</td>\n",
       "      <td>2</td>\n",
       "      <td>1</td>\n",
       "      <td>2</td>\n",
       "    </tr>\n",
       "    <tr>\n",
       "      <th>2</th>\n",
       "      <td>1015425</td>\n",
       "      <td>3</td>\n",
       "      <td>1</td>\n",
       "      <td>1</td>\n",
       "      <td>1</td>\n",
       "      <td>2</td>\n",
       "      <td>2</td>\n",
       "      <td>3</td>\n",
       "      <td>1</td>\n",
       "      <td>1</td>\n",
       "      <td>2</td>\n",
       "    </tr>\n",
       "    <tr>\n",
       "      <th>3</th>\n",
       "      <td>1016277</td>\n",
       "      <td>6</td>\n",
       "      <td>8</td>\n",
       "      <td>8</td>\n",
       "      <td>1</td>\n",
       "      <td>3</td>\n",
       "      <td>4</td>\n",
       "      <td>3</td>\n",
       "      <td>7</td>\n",
       "      <td>1</td>\n",
       "      <td>2</td>\n",
       "    </tr>\n",
       "    <tr>\n",
       "      <th>4</th>\n",
       "      <td>1017023</td>\n",
       "      <td>4</td>\n",
       "      <td>1</td>\n",
       "      <td>1</td>\n",
       "      <td>3</td>\n",
       "      <td>2</td>\n",
       "      <td>1</td>\n",
       "      <td>3</td>\n",
       "      <td>1</td>\n",
       "      <td>1</td>\n",
       "      <td>2</td>\n",
       "    </tr>\n",
       "    <tr>\n",
       "      <th>5</th>\n",
       "      <td>1017122</td>\n",
       "      <td>8</td>\n",
       "      <td>10</td>\n",
       "      <td>10</td>\n",
       "      <td>8</td>\n",
       "      <td>7</td>\n",
       "      <td>10</td>\n",
       "      <td>9</td>\n",
       "      <td>7</td>\n",
       "      <td>1</td>\n",
       "      <td>4</td>\n",
       "    </tr>\n",
       "    <tr>\n",
       "      <th>6</th>\n",
       "      <td>1018099</td>\n",
       "      <td>1</td>\n",
       "      <td>1</td>\n",
       "      <td>1</td>\n",
       "      <td>1</td>\n",
       "      <td>2</td>\n",
       "      <td>10</td>\n",
       "      <td>3</td>\n",
       "      <td>1</td>\n",
       "      <td>1</td>\n",
       "      <td>2</td>\n",
       "    </tr>\n",
       "    <tr>\n",
       "      <th>7</th>\n",
       "      <td>1018561</td>\n",
       "      <td>2</td>\n",
       "      <td>1</td>\n",
       "      <td>2</td>\n",
       "      <td>1</td>\n",
       "      <td>2</td>\n",
       "      <td>1</td>\n",
       "      <td>3</td>\n",
       "      <td>1</td>\n",
       "      <td>1</td>\n",
       "      <td>2</td>\n",
       "    </tr>\n",
       "    <tr>\n",
       "      <th>8</th>\n",
       "      <td>1033078</td>\n",
       "      <td>2</td>\n",
       "      <td>1</td>\n",
       "      <td>1</td>\n",
       "      <td>1</td>\n",
       "      <td>2</td>\n",
       "      <td>1</td>\n",
       "      <td>1</td>\n",
       "      <td>1</td>\n",
       "      <td>5</td>\n",
       "      <td>2</td>\n",
       "    </tr>\n",
       "    <tr>\n",
       "      <th>9</th>\n",
       "      <td>1033078</td>\n",
       "      <td>4</td>\n",
       "      <td>2</td>\n",
       "      <td>1</td>\n",
       "      <td>1</td>\n",
       "      <td>2</td>\n",
       "      <td>1</td>\n",
       "      <td>2</td>\n",
       "      <td>1</td>\n",
       "      <td>1</td>\n",
       "      <td>2</td>\n",
       "    </tr>\n",
       "  </tbody>\n",
       "</table>\n",
       "</div>"
      ],
      "text/plain": [
       "        ID  clumpThickness  sizeUniformity  shapeUniformity  maginalAdhesion  \\\n",
       "0  1000025               5               1                1                1   \n",
       "1  1002945               5               4                4                5   \n",
       "2  1015425               3               1                1                1   \n",
       "3  1016277               6               8                8                1   \n",
       "4  1017023               4               1                1                3   \n",
       "5  1017122               8              10               10                8   \n",
       "6  1018099               1               1                1                1   \n",
       "7  1018561               2               1                2                1   \n",
       "8  1033078               2               1                1                1   \n",
       "9  1033078               4               2                1                1   \n",
       "\n",
       "   singleEpithelialCellSize bareNuclei  blandChromatin  normalNucleoli  \\\n",
       "0                         2          1               3               1   \n",
       "1                         7         10               3               2   \n",
       "2                         2          2               3               1   \n",
       "3                         3          4               3               7   \n",
       "4                         2          1               3               1   \n",
       "5                         7         10               9               7   \n",
       "6                         2         10               3               1   \n",
       "7                         2          1               3               1   \n",
       "8                         2          1               1               1   \n",
       "9                         2          1               2               1   \n",
       "\n",
       "   mitosis  class  \n",
       "0        1      2  \n",
       "1        1      2  \n",
       "2        1      2  \n",
       "3        1      2  \n",
       "4        1      2  \n",
       "5        1      4  \n",
       "6        1      2  \n",
       "7        1      2  \n",
       "8        5      2  \n",
       "9        1      2  "
      ]
     },
     "execution_count": 32,
     "metadata": {},
     "output_type": "execute_result"
    }
   ],
   "source": [
    "data.columns = [\"ID\", \"clumpThickness\", \"sizeUniformity\",\n",
    "\"shapeUniformity\", \"maginalAdhesion\",\n",
    "\"singleEpithelialCellSize\", \"bareNuclei\",\n",
    "\"blandChromatin\", \"normalNucleoli\", \"mitosis\", \"class\"]\n",
    "data.head(10)"
   ]
  },
  {
   "cell_type": "code",
   "execution_count": 33,
   "metadata": {},
   "outputs": [
    {
     "data": {
      "text/plain": [
       "(699, 11)"
      ]
     },
     "execution_count": 33,
     "metadata": {},
     "output_type": "execute_result"
    }
   ],
   "source": [
    "data.shape"
   ]
  },
  {
   "cell_type": "markdown",
   "metadata": {},
   "source": [
    "###### Counting the different classes of 'class' variable"
   ]
  },
  {
   "cell_type": "code",
   "execution_count": 34,
   "metadata": {},
   "outputs": [
    {
     "data": {
      "text/plain": [
       "2    458\n",
       "4    241\n",
       "Name: class, dtype: int64"
      ]
     },
     "execution_count": 34,
     "metadata": {},
     "output_type": "execute_result"
    }
   ],
   "source": [
    "data['class'].value_counts()"
   ]
  },
  {
   "cell_type": "markdown",
   "metadata": {},
   "source": [
    "###### Converting classes '2','4' to binary '0'(benign) and '1'(malignant)"
   ]
  },
  {
   "cell_type": "code",
   "execution_count": 35,
   "metadata": {},
   "outputs": [
    {
     "data": {
      "text/plain": [
       "ID                           int64\n",
       "clumpThickness               int64\n",
       "sizeUniformity               int64\n",
       "shapeUniformity              int64\n",
       "maginalAdhesion              int64\n",
       "singleEpithelialCellSize     int64\n",
       "bareNuclei                  object\n",
       "blandChromatin               int64\n",
       "normalNucleoli               int64\n",
       "mitosis                      int64\n",
       "class                        int64\n",
       "dtype: object"
      ]
     },
     "execution_count": 35,
     "metadata": {},
     "output_type": "execute_result"
    }
   ],
   "source": [
    "data.dtypes"
   ]
  },
  {
   "cell_type": "markdown",
   "metadata": {},
   "source": [
    "######  Converting 'class' variable from int to string"
   ]
  },
  {
   "cell_type": "code",
   "execution_count": 36,
   "metadata": {
    "collapsed": true
   },
   "outputs": [],
   "source": [
    "data['class'] = data['class'].astype(str)"
   ]
  },
  {
   "cell_type": "code",
   "execution_count": 37,
   "metadata": {
    "collapsed": true
   },
   "outputs": [],
   "source": [
    "#Converting 'object' to numeric data type\n",
    "data['bareNuclei'] = pd.to_numeric(data['bareNuclei'], errors='coerce')\n",
    "#data['bareNuclei'] = data['bareNuclei'].astype(str).astype(int)"
   ]
  },
  {
   "cell_type": "code",
   "execution_count": 38,
   "metadata": {},
   "outputs": [
    {
     "data": {
      "text/plain": [
       "ID                            int64\n",
       "clumpThickness                int64\n",
       "sizeUniformity                int64\n",
       "shapeUniformity               int64\n",
       "maginalAdhesion               int64\n",
       "singleEpithelialCellSize      int64\n",
       "bareNuclei                  float64\n",
       "blandChromatin                int64\n",
       "normalNucleoli                int64\n",
       "mitosis                       int64\n",
       "class                        object\n",
       "dtype: object"
      ]
     },
     "execution_count": 38,
     "metadata": {},
     "output_type": "execute_result"
    }
   ],
   "source": [
    "data.dtypes"
   ]
  },
  {
   "cell_type": "code",
   "execution_count": 39,
   "metadata": {},
   "outputs": [
    {
     "data": {
      "text/plain": [
       "ID                           0\n",
       "clumpThickness               0\n",
       "sizeUniformity               0\n",
       "shapeUniformity              0\n",
       "maginalAdhesion              0\n",
       "singleEpithelialCellSize     0\n",
       "bareNuclei                  16\n",
       "blandChromatin               0\n",
       "normalNucleoli               0\n",
       "mitosis                      0\n",
       "class                        0\n",
       "dtype: int64"
      ]
     },
     "execution_count": 39,
     "metadata": {},
     "output_type": "execute_result"
    }
   ],
   "source": [
    "data.isnull().sum()"
   ]
  },
  {
   "cell_type": "markdown",
   "metadata": {},
   "source": [
    "###### Replacing missing values with mean value of column"
   ]
  },
  {
   "cell_type": "code",
   "execution_count": 40,
   "metadata": {
    "collapsed": true
   },
   "outputs": [],
   "source": [
    "data[\"bareNuclei\"].fillna(data[\"bareNuclei\"].mean(), inplace=True)"
   ]
  },
  {
   "cell_type": "code",
   "execution_count": 41,
   "metadata": {},
   "outputs": [
    {
     "data": {
      "text/plain": [
       "ID                          0\n",
       "clumpThickness              0\n",
       "sizeUniformity              0\n",
       "shapeUniformity             0\n",
       "maginalAdhesion             0\n",
       "singleEpithelialCellSize    0\n",
       "bareNuclei                  0\n",
       "blandChromatin              0\n",
       "normalNucleoli              0\n",
       "mitosis                     0\n",
       "class                       0\n",
       "dtype: int64"
      ]
     },
     "execution_count": 41,
     "metadata": {},
     "output_type": "execute_result"
    }
   ],
   "source": [
    "#Now check for missing values in dataframe\n",
    "data.isnull().sum()"
   ]
  },
  {
   "cell_type": "code",
   "execution_count": 42,
   "metadata": {},
   "outputs": [
    {
     "data": {
      "text/plain": [
       "Index(['clumpThickness', 'sizeUniformity', 'shapeUniformity',\n",
       "       'maginalAdhesion', 'singleEpithelialCellSize', 'bareNuclei',\n",
       "       'blandChromatin', 'normalNucleoli', 'mitosis', 'class'],\n",
       "      dtype='object')"
      ]
     },
     "execution_count": 42,
     "metadata": {},
     "output_type": "execute_result"
    }
   ],
   "source": [
    "data = data.drop(['ID'], axis=1)\n",
    "data.columns"
   ]
  },
  {
   "cell_type": "code",
   "execution_count": 43,
   "metadata": {},
   "outputs": [
    {
     "data": {
      "text/html": [
       "<div>\n",
       "<style>\n",
       "    .dataframe thead tr:only-child th {\n",
       "        text-align: right;\n",
       "    }\n",
       "\n",
       "    .dataframe thead th {\n",
       "        text-align: left;\n",
       "    }\n",
       "\n",
       "    .dataframe tbody tr th {\n",
       "        vertical-align: top;\n",
       "    }\n",
       "</style>\n",
       "<table border=\"1\" class=\"dataframe\">\n",
       "  <thead>\n",
       "    <tr style=\"text-align: right;\">\n",
       "      <th></th>\n",
       "      <th>clumpThickness</th>\n",
       "      <th>sizeUniformity</th>\n",
       "      <th>shapeUniformity</th>\n",
       "      <th>maginalAdhesion</th>\n",
       "      <th>singleEpithelialCellSize</th>\n",
       "      <th>bareNuclei</th>\n",
       "      <th>blandChromatin</th>\n",
       "      <th>normalNucleoli</th>\n",
       "      <th>mitosis</th>\n",
       "    </tr>\n",
       "  </thead>\n",
       "  <tbody>\n",
       "    <tr>\n",
       "      <th>count</th>\n",
       "      <td>699.000000</td>\n",
       "      <td>699.000000</td>\n",
       "      <td>699.000000</td>\n",
       "      <td>699.000000</td>\n",
       "      <td>699.000000</td>\n",
       "      <td>699.000000</td>\n",
       "      <td>699.000000</td>\n",
       "      <td>699.000000</td>\n",
       "      <td>699.000000</td>\n",
       "    </tr>\n",
       "    <tr>\n",
       "      <th>mean</th>\n",
       "      <td>4.417740</td>\n",
       "      <td>3.134478</td>\n",
       "      <td>3.207439</td>\n",
       "      <td>2.806867</td>\n",
       "      <td>3.216023</td>\n",
       "      <td>3.544656</td>\n",
       "      <td>3.437768</td>\n",
       "      <td>2.866953</td>\n",
       "      <td>1.589413</td>\n",
       "    </tr>\n",
       "    <tr>\n",
       "      <th>std</th>\n",
       "      <td>2.815741</td>\n",
       "      <td>3.051459</td>\n",
       "      <td>2.971913</td>\n",
       "      <td>2.855379</td>\n",
       "      <td>2.214300</td>\n",
       "      <td>3.601852</td>\n",
       "      <td>2.438364</td>\n",
       "      <td>3.053634</td>\n",
       "      <td>1.715078</td>\n",
       "    </tr>\n",
       "    <tr>\n",
       "      <th>min</th>\n",
       "      <td>1.000000</td>\n",
       "      <td>1.000000</td>\n",
       "      <td>1.000000</td>\n",
       "      <td>1.000000</td>\n",
       "      <td>1.000000</td>\n",
       "      <td>1.000000</td>\n",
       "      <td>1.000000</td>\n",
       "      <td>1.000000</td>\n",
       "      <td>1.000000</td>\n",
       "    </tr>\n",
       "    <tr>\n",
       "      <th>25%</th>\n",
       "      <td>2.000000</td>\n",
       "      <td>1.000000</td>\n",
       "      <td>1.000000</td>\n",
       "      <td>1.000000</td>\n",
       "      <td>2.000000</td>\n",
       "      <td>1.000000</td>\n",
       "      <td>2.000000</td>\n",
       "      <td>1.000000</td>\n",
       "      <td>1.000000</td>\n",
       "    </tr>\n",
       "    <tr>\n",
       "      <th>50%</th>\n",
       "      <td>4.000000</td>\n",
       "      <td>1.000000</td>\n",
       "      <td>1.000000</td>\n",
       "      <td>1.000000</td>\n",
       "      <td>2.000000</td>\n",
       "      <td>1.000000</td>\n",
       "      <td>3.000000</td>\n",
       "      <td>1.000000</td>\n",
       "      <td>1.000000</td>\n",
       "    </tr>\n",
       "    <tr>\n",
       "      <th>75%</th>\n",
       "      <td>6.000000</td>\n",
       "      <td>5.000000</td>\n",
       "      <td>5.000000</td>\n",
       "      <td>4.000000</td>\n",
       "      <td>4.000000</td>\n",
       "      <td>5.000000</td>\n",
       "      <td>5.000000</td>\n",
       "      <td>4.000000</td>\n",
       "      <td>1.000000</td>\n",
       "    </tr>\n",
       "    <tr>\n",
       "      <th>max</th>\n",
       "      <td>10.000000</td>\n",
       "      <td>10.000000</td>\n",
       "      <td>10.000000</td>\n",
       "      <td>10.000000</td>\n",
       "      <td>10.000000</td>\n",
       "      <td>10.000000</td>\n",
       "      <td>10.000000</td>\n",
       "      <td>10.000000</td>\n",
       "      <td>10.000000</td>\n",
       "    </tr>\n",
       "  </tbody>\n",
       "</table>\n",
       "</div>"
      ],
      "text/plain": [
       "       clumpThickness  sizeUniformity  shapeUniformity  maginalAdhesion  \\\n",
       "count      699.000000      699.000000       699.000000       699.000000   \n",
       "mean         4.417740        3.134478         3.207439         2.806867   \n",
       "std          2.815741        3.051459         2.971913         2.855379   \n",
       "min          1.000000        1.000000         1.000000         1.000000   \n",
       "25%          2.000000        1.000000         1.000000         1.000000   \n",
       "50%          4.000000        1.000000         1.000000         1.000000   \n",
       "75%          6.000000        5.000000         5.000000         4.000000   \n",
       "max         10.000000       10.000000        10.000000        10.000000   \n",
       "\n",
       "       singleEpithelialCellSize  bareNuclei  blandChromatin  normalNucleoli  \\\n",
       "count                699.000000  699.000000      699.000000      699.000000   \n",
       "mean                   3.216023    3.544656        3.437768        2.866953   \n",
       "std                    2.214300    3.601852        2.438364        3.053634   \n",
       "min                    1.000000    1.000000        1.000000        1.000000   \n",
       "25%                    2.000000    1.000000        2.000000        1.000000   \n",
       "50%                    2.000000    1.000000        3.000000        1.000000   \n",
       "75%                    4.000000    5.000000        5.000000        4.000000   \n",
       "max                   10.000000   10.000000       10.000000       10.000000   \n",
       "\n",
       "          mitosis  \n",
       "count  699.000000  \n",
       "mean     1.589413  \n",
       "std      1.715078  \n",
       "min      1.000000  \n",
       "25%      1.000000  \n",
       "50%      1.000000  \n",
       "75%      1.000000  \n",
       "max     10.000000  "
      ]
     },
     "execution_count": 43,
     "metadata": {},
     "output_type": "execute_result"
    }
   ],
   "source": [
    "data.describe()"
   ]
  },
  {
   "cell_type": "code",
   "execution_count": 44,
   "metadata": {},
   "outputs": [
    {
     "data": {
      "text/plain": [
       "1     579\n",
       "2      35\n",
       "3      33\n",
       "10     14\n",
       "4      12\n",
       "7       9\n",
       "8       8\n",
       "5       6\n",
       "6       3\n",
       "Name: mitosis, dtype: int64"
      ]
     },
     "execution_count": 44,
     "metadata": {},
     "output_type": "execute_result"
    }
   ],
   "source": [
    "data['mitosis'].value_counts()"
   ]
  },
  {
   "cell_type": "code",
   "execution_count": 45,
   "metadata": {
    "collapsed": true
   },
   "outputs": [],
   "source": [
    "#np.ravel(data['class'])"
   ]
  },
  {
   "cell_type": "markdown",
   "metadata": {},
   "source": [
    "###### Splitting data into input and output variables"
   ]
  },
  {
   "cell_type": "code",
   "execution_count": 46,
   "metadata": {
    "collapsed": true
   },
   "outputs": [],
   "source": [
    "X = data.iloc[:,0:9].values\n",
    "y = data.iloc[:,9].values"
   ]
  },
  {
   "cell_type": "code",
   "execution_count": 47,
   "metadata": {
    "collapsed": true
   },
   "outputs": [],
   "source": [
    "#encoding class values as integers\n",
    "encoder =  LabelEncoder()\n",
    "y1 = encoder.fit_transform(y)\n",
    "Y = pd.get_dummies(y1).values"
   ]
  },
  {
   "cell_type": "markdown",
   "metadata": {},
   "source": [
    "###### Splitting data into train and test variables"
   ]
  },
  {
   "cell_type": "code",
   "execution_count": 48,
   "metadata": {
    "collapsed": true
   },
   "outputs": [],
   "source": [
    "X_train, X_test, y_train, y_test = train_test_split(X, Y, test_size=0.30, random_state=0) "
   ]
  },
  {
   "cell_type": "code",
   "execution_count": 49,
   "metadata": {},
   "outputs": [
    {
     "name": "stdout",
     "output_type": "stream",
     "text": [
      "(489, 9)\n",
      "(489, 2)\n",
      "(210, 9)\n",
      "(210, 2)\n"
     ]
    }
   ],
   "source": [
    "print(X_train.shape)\n",
    "print(y_train.shape)\n",
    "print(X_test.shape)\n",
    "print(y_test.shape)"
   ]
  },
  {
   "cell_type": "code",
   "execution_count": 50,
   "metadata": {
    "collapsed": true
   },
   "outputs": [],
   "source": [
    "model = Sequential()\n",
    "\n",
    "model.add(Dense(10, input_shape=(9,), activation='relu'))\n",
    "model.add(Dense(8, activation='relu'))\n",
    "model.add(Dense(2, activation='softmax'))"
   ]
  },
  {
   "cell_type": "code",
   "execution_count": 51,
   "metadata": {
    "collapsed": true
   },
   "outputs": [],
   "source": [
    "model.compile(optimizer=Adam(lr=0.04), loss='categorical_crossentropy', metrics=['accuracy'])"
   ]
  },
  {
   "cell_type": "code",
   "execution_count": 52,
   "metadata": {},
   "outputs": [
    {
     "name": "stdout",
     "output_type": "stream",
     "text": [
      "_________________________________________________________________\n",
      "Layer (type)                 Output Shape              Param #   \n",
      "=================================================================\n",
      "dense_4 (Dense)              (None, 10)                100       \n",
      "_________________________________________________________________\n",
      "dense_5 (Dense)              (None, 8)                 88        \n",
      "_________________________________________________________________\n",
      "dense_6 (Dense)              (None, 2)                 18        \n",
      "=================================================================\n",
      "Total params: 206\n",
      "Trainable params: 206\n",
      "Non-trainable params: 0\n",
      "_________________________________________________________________\n"
     ]
    }
   ],
   "source": [
    "model.summary()"
   ]
  },
  {
   "cell_type": "code",
   "execution_count": 54,
   "metadata": {},
   "outputs": [
    {
     "name": "stdout",
     "output_type": "stream",
     "text": [
      "Epoch 1/200\n",
      "489/489 [==============================] - 0s 41us/step - loss: 0.0512 - acc: 0.9775\n",
      "Epoch 2/200\n",
      "489/489 [==============================] - 0s 43us/step - loss: 0.0499 - acc: 0.9816\n",
      "Epoch 3/200\n",
      "489/489 [==============================] - 0s 43us/step - loss: 0.0714 - acc: 0.9714\n",
      "Epoch 4/200\n",
      "489/489 [==============================] - 0s 41us/step - loss: 0.0504 - acc: 0.9836\n",
      "Epoch 5/200\n",
      "489/489 [==============================] - 0s 45us/step - loss: 0.0460 - acc: 0.9796\n",
      "Epoch 6/200\n",
      "489/489 [==============================] - 0s 39us/step - loss: 0.0461 - acc: 0.9796\n",
      "Epoch 7/200\n",
      "489/489 [==============================] - 0s 43us/step - loss: 0.0458 - acc: 0.9836\n",
      "Epoch 8/200\n",
      "489/489 [==============================] - 0s 45us/step - loss: 0.0566 - acc: 0.9755\n",
      "Epoch 9/200\n",
      "489/489 [==============================] - ETA: 0s - loss: 0.0336 - acc: 0.968 - 0s 41us/step - loss: 0.0565 - acc: 0.9775\n",
      "Epoch 10/200\n",
      "489/489 [==============================] - 0s 45us/step - loss: 0.0510 - acc: 0.9734\n",
      "Epoch 11/200\n",
      "489/489 [==============================] - 0s 47us/step - loss: 0.0566 - acc: 0.9816\n",
      "Epoch 12/200\n",
      "489/489 [==============================] - 0s 43us/step - loss: 0.0577 - acc: 0.9775\n",
      "Epoch 13/200\n",
      "489/489 [==============================] - 0s 43us/step - loss: 0.0438 - acc: 0.9836\n",
      "Epoch 14/200\n",
      "489/489 [==============================] - 0s 41us/step - loss: 0.0498 - acc: 0.9755\n",
      "Epoch 15/200\n",
      "489/489 [==============================] - 0s 45us/step - loss: 0.0503 - acc: 0.9857\n",
      "Epoch 16/200\n",
      "489/489 [==============================] - 0s 43us/step - loss: 0.0458 - acc: 0.9836\n",
      "Epoch 17/200\n",
      "489/489 [==============================] - 0s 41us/step - loss: 0.0799 - acc: 0.9734\n",
      "Epoch 18/200\n",
      "489/489 [==============================] - 0s 47us/step - loss: 0.0784 - acc: 0.9734\n",
      "Epoch 19/200\n",
      "489/489 [==============================] - 0s 45us/step - loss: 0.0636 - acc: 0.9714\n",
      "Epoch 20/200\n",
      "489/489 [==============================] - 0s 43us/step - loss: 0.0556 - acc: 0.9816\n",
      "Epoch 21/200\n",
      "489/489 [==============================] - 0s 43us/step - loss: 0.0646 - acc: 0.9714\n",
      "Epoch 22/200\n",
      "489/489 [==============================] - 0s 43us/step - loss: 0.0543 - acc: 0.9775\n",
      "Epoch 23/200\n",
      "489/489 [==============================] - 0s 47us/step - loss: 0.0589 - acc: 0.9714\n",
      "Epoch 24/200\n",
      "489/489 [==============================] - 0s 45us/step - loss: 0.0555 - acc: 0.9775\n",
      "Epoch 25/200\n",
      "489/489 [==============================] - 0s 41us/step - loss: 0.0493 - acc: 0.9816\n",
      "Epoch 26/200\n",
      "489/489 [==============================] - 0s 43us/step - loss: 0.0660 - acc: 0.9816\n",
      "Epoch 27/200\n",
      "489/489 [==============================] - 0s 41us/step - loss: 0.0541 - acc: 0.9796\n",
      "Epoch 28/200\n",
      "489/489 [==============================] - 0s 47us/step - loss: 0.0532 - acc: 0.9816\n",
      "Epoch 29/200\n",
      "489/489 [==============================] - 0s 43us/step - loss: 0.0475 - acc: 0.9775\n",
      "Epoch 30/200\n",
      "489/489 [==============================] - 0s 41us/step - loss: 0.0456 - acc: 0.9836\n",
      "Epoch 31/200\n",
      "489/489 [==============================] - 0s 43us/step - loss: 0.0457 - acc: 0.9816\n",
      "Epoch 32/200\n",
      "489/489 [==============================] - 0s 43us/step - loss: 0.0499 - acc: 0.9775\n",
      "Epoch 33/200\n",
      "489/489 [==============================] - 0s 43us/step - loss: 0.0456 - acc: 0.9836\n",
      "Epoch 34/200\n",
      "489/489 [==============================] - 0s 47us/step - loss: 0.0534 - acc: 0.9816\n",
      "Epoch 35/200\n",
      "489/489 [==============================] - 0s 41us/step - loss: 0.0638 - acc: 0.9755\n",
      "Epoch 36/200\n",
      "489/489 [==============================] - 0s 43us/step - loss: 0.0623 - acc: 0.9755\n",
      "Epoch 37/200\n",
      "489/489 [==============================] - 0s 45us/step - loss: 0.0581 - acc: 0.9796\n",
      "Epoch 38/200\n",
      "489/489 [==============================] - 0s 41us/step - loss: 0.0570 - acc: 0.9775\n",
      "Epoch 39/200\n",
      "489/489 [==============================] - 0s 41us/step - loss: 0.0520 - acc: 0.9857\n",
      "Epoch 40/200\n",
      "489/489 [==============================] - 0s 41us/step - loss: 0.0524 - acc: 0.9775\n",
      "Epoch 41/200\n",
      "489/489 [==============================] - 0s 41us/step - loss: 0.0533 - acc: 0.9755\n",
      "Epoch 42/200\n",
      "489/489 [==============================] - 0s 41us/step - loss: 0.0473 - acc: 0.9816\n",
      "Epoch 43/200\n",
      "489/489 [==============================] - 0s 43us/step - loss: 0.0592 - acc: 0.9734\n",
      "Epoch 44/200\n",
      "489/489 [==============================] - 0s 43us/step - loss: 0.0491 - acc: 0.9734\n",
      "Epoch 45/200\n",
      "489/489 [==============================] - 0s 41us/step - loss: 0.0509 - acc: 0.9836\n",
      "Epoch 46/200\n",
      "489/489 [==============================] - 0s 45us/step - loss: 0.0485 - acc: 0.9755\n",
      "Epoch 47/200\n",
      "489/489 [==============================] - 0s 39us/step - loss: 0.0529 - acc: 0.9796\n",
      "Epoch 48/200\n",
      "489/489 [==============================] - 0s 43us/step - loss: 0.0533 - acc: 0.9755\n",
      "Epoch 49/200\n",
      "489/489 [==============================] - 0s 37us/step - loss: 0.0446 - acc: 0.9796\n",
      "Epoch 50/200\n",
      "489/489 [==============================] - 0s 41us/step - loss: 0.0438 - acc: 0.9836\n",
      "Epoch 51/200\n",
      "489/489 [==============================] - 0s 43us/step - loss: 0.0563 - acc: 0.9816\n",
      "Epoch 52/200\n",
      "489/489 [==============================] - 0s 41us/step - loss: 0.0484 - acc: 0.9796\n",
      "Epoch 53/200\n",
      "489/489 [==============================] - 0s 41us/step - loss: 0.0572 - acc: 0.9816\n",
      "Epoch 54/200\n",
      "489/489 [==============================] - 0s 43us/step - loss: 0.0449 - acc: 0.9775\n",
      "Epoch 55/200\n",
      "489/489 [==============================] - 0s 43us/step - loss: 0.0553 - acc: 0.9816\n",
      "Epoch 56/200\n",
      "489/489 [==============================] - 0s 37us/step - loss: 0.0448 - acc: 0.9816\n",
      "Epoch 57/200\n",
      "489/489 [==============================] - 0s 41us/step - loss: 0.0463 - acc: 0.9857\n",
      "Epoch 58/200\n",
      "489/489 [==============================] - 0s 39us/step - loss: 0.0532 - acc: 0.9836\n",
      "Epoch 59/200\n",
      "489/489 [==============================] - 0s 43us/step - loss: 0.0657 - acc: 0.9816\n",
      "Epoch 60/200\n",
      "489/489 [==============================] - 0s 43us/step - loss: 0.0549 - acc: 0.9734\n",
      "Epoch 61/200\n",
      "489/489 [==============================] - 0s 43us/step - loss: 0.0533 - acc: 0.9734\n",
      "Epoch 62/200\n",
      "489/489 [==============================] - 0s 47us/step - loss: 0.0518 - acc: 0.9775\n",
      "Epoch 63/200\n",
      "489/489 [==============================] - 0s 43us/step - loss: 0.0605 - acc: 0.9775\n",
      "Epoch 64/200\n",
      "489/489 [==============================] - 0s 41us/step - loss: 0.0490 - acc: 0.9816\n",
      "Epoch 65/200\n",
      "489/489 [==============================] - 0s 41us/step - loss: 0.0519 - acc: 0.9816\n",
      "Epoch 66/200\n",
      "489/489 [==============================] - 0s 37us/step - loss: 0.0518 - acc: 0.9734\n",
      "Epoch 67/200\n",
      "489/489 [==============================] - 0s 39us/step - loss: 0.0490 - acc: 0.9857\n",
      "Epoch 68/200\n",
      "489/489 [==============================] - 0s 41us/step - loss: 0.0524 - acc: 0.9755\n",
      "Epoch 69/200\n",
      "489/489 [==============================] - 0s 39us/step - loss: 0.0648 - acc: 0.9836\n",
      "Epoch 70/200\n",
      "489/489 [==============================] - 0s 41us/step - loss: 0.0499 - acc: 0.9714\n",
      "Epoch 71/200\n",
      "489/489 [==============================] - 0s 39us/step - loss: 0.0468 - acc: 0.9836\n",
      "Epoch 72/200\n",
      "489/489 [==============================] - 0s 37us/step - loss: 0.0489 - acc: 0.9816\n",
      "Epoch 73/200\n",
      "489/489 [==============================] - 0s 39us/step - loss: 0.0462 - acc: 0.9836\n",
      "Epoch 74/200\n",
      "489/489 [==============================] - 0s 41us/step - loss: 0.0655 - acc: 0.9755\n",
      "Epoch 75/200\n",
      "489/489 [==============================] - 0s 39us/step - loss: 0.0578 - acc: 0.9755\n",
      "Epoch 76/200\n",
      "489/489 [==============================] - 0s 37us/step - loss: 0.0525 - acc: 0.9734\n",
      "Epoch 77/200\n",
      "489/489 [==============================] - 0s 41us/step - loss: 0.0438 - acc: 0.9816\n",
      "Epoch 78/200\n",
      "489/489 [==============================] - 0s 37us/step - loss: 0.0445 - acc: 0.9857\n",
      "Epoch 79/200\n",
      "489/489 [==============================] - 0s 41us/step - loss: 0.0467 - acc: 0.9796\n",
      "Epoch 80/200\n",
      "489/489 [==============================] - 0s 39us/step - loss: 0.0829 - acc: 0.9734\n",
      "Epoch 81/200\n",
      "489/489 [==============================] - 0s 39us/step - loss: 0.0490 - acc: 0.9857\n",
      "Epoch 82/200\n",
      "489/489 [==============================] - 0s 41us/step - loss: 0.0528 - acc: 0.9714\n",
      "Epoch 83/200\n",
      "489/489 [==============================] - 0s 41us/step - loss: 0.0603 - acc: 0.9775\n",
      "Epoch 84/200\n",
      "489/489 [==============================] - 0s 39us/step - loss: 0.0518 - acc: 0.9796\n",
      "Epoch 85/200\n",
      "489/489 [==============================] - 0s 37us/step - loss: 0.0467 - acc: 0.9857\n",
      "Epoch 86/200\n",
      "489/489 [==============================] - 0s 41us/step - loss: 0.0475 - acc: 0.9714\n",
      "Epoch 87/200\n",
      "489/489 [==============================] - 0s 41us/step - loss: 0.0426 - acc: 0.9775\n",
      "Epoch 88/200\n",
      "489/489 [==============================] - 0s 41us/step - loss: 0.0519 - acc: 0.9857\n",
      "Epoch 89/200\n",
      "489/489 [==============================] - 0s 39us/step - loss: 0.0517 - acc: 0.9775\n",
      "Epoch 90/200\n",
      "489/489 [==============================] - 0s 39us/step - loss: 0.0506 - acc: 0.9775\n",
      "Epoch 91/200\n",
      "489/489 [==============================] - 0s 39us/step - loss: 0.1269 - acc: 0.9632\n",
      "Epoch 92/200\n",
      "489/489 [==============================] - 0s 41us/step - loss: 0.0649 - acc: 0.9775\n",
      "Epoch 93/200\n",
      "489/489 [==============================] - 0s 39us/step - loss: 0.0509 - acc: 0.9755\n",
      "Epoch 94/200\n",
      "489/489 [==============================] - 0s 39us/step - loss: 0.0741 - acc: 0.9714\n",
      "Epoch 95/200\n",
      "489/489 [==============================] - 0s 40us/step - loss: 0.0566 - acc: 0.9714\n",
      "Epoch 96/200\n",
      "489/489 [==============================] - 0s 41us/step - loss: 0.0685 - acc: 0.9734\n",
      "Epoch 97/200\n",
      "489/489 [==============================] - 0s 39us/step - loss: 0.0603 - acc: 0.9857\n",
      "Epoch 98/200\n",
      "489/489 [==============================] - 0s 37us/step - loss: 0.0514 - acc: 0.9734\n",
      "Epoch 99/200\n",
      "489/489 [==============================] - 0s 41us/step - loss: 0.0556 - acc: 0.9816\n",
      "Epoch 100/200\n",
      "489/489 [==============================] - 0s 41us/step - loss: 0.0485 - acc: 0.9775\n",
      "Epoch 101/200\n",
      "489/489 [==============================] - 0s 37us/step - loss: 0.0498 - acc: 0.9775\n",
      "Epoch 102/200\n",
      "489/489 [==============================] - 0s 41us/step - loss: 0.0550 - acc: 0.9796\n",
      "Epoch 103/200\n",
      "489/489 [==============================] - 0s 41us/step - loss: 0.0535 - acc: 0.9796\n",
      "Epoch 104/200\n",
      "489/489 [==============================] - 0s 41us/step - loss: 0.0464 - acc: 0.9796\n",
      "Epoch 105/200\n",
      "489/489 [==============================] - 0s 37us/step - loss: 0.0462 - acc: 0.9775\n",
      "Epoch 106/200\n",
      "489/489 [==============================] - 0s 41us/step - loss: 0.0525 - acc: 0.9734\n",
      "Epoch 107/200\n",
      "489/489 [==============================] - 0s 41us/step - loss: 0.0535 - acc: 0.9775\n",
      "Epoch 108/200\n",
      "489/489 [==============================] - 0s 41us/step - loss: 0.0986 - acc: 0.9734\n",
      "Epoch 109/200\n",
      "489/489 [==============================] - 0s 39us/step - loss: 0.0737 - acc: 0.9796\n",
      "Epoch 110/200\n",
      "489/489 [==============================] - 0s 39us/step - loss: 0.0515 - acc: 0.9796\n",
      "Epoch 111/200\n",
      "489/489 [==============================] - 0s 41us/step - loss: 0.0527 - acc: 0.9775\n",
      "Epoch 112/200\n",
      "489/489 [==============================] - 0s 43us/step - loss: 0.0502 - acc: 0.9775\n",
      "Epoch 113/200\n",
      "489/489 [==============================] - 0s 39us/step - loss: 0.0514 - acc: 0.9836\n",
      "Epoch 114/200\n",
      "489/489 [==============================] - 0s 41us/step - loss: 0.0532 - acc: 0.9796\n",
      "Epoch 115/200\n",
      "489/489 [==============================] - 0s 41us/step - loss: 0.0471 - acc: 0.9816\n",
      "Epoch 116/200\n",
      "489/489 [==============================] - 0s 39us/step - loss: 0.0633 - acc: 0.9796\n",
      "Epoch 117/200\n",
      "489/489 [==============================] - 0s 39us/step - loss: 0.0550 - acc: 0.9775\n",
      "Epoch 118/200\n",
      "489/489 [==============================] - 0s 41us/step - loss: 0.0540 - acc: 0.9755\n",
      "Epoch 119/200\n",
      "489/489 [==============================] - 0s 41us/step - loss: 0.0444 - acc: 0.9816\n",
      "Epoch 120/200\n",
      "489/489 [==============================] - 0s 39us/step - loss: 0.0452 - acc: 0.9836\n",
      "Epoch 121/200\n",
      "489/489 [==============================] - 0s 43us/step - loss: 0.0490 - acc: 0.9796\n",
      "Epoch 122/200\n",
      "489/489 [==============================] - 0s 41us/step - loss: 0.0493 - acc: 0.9775\n",
      "Epoch 123/200\n",
      "489/489 [==============================] - 0s 41us/step - loss: 0.0475 - acc: 0.9857\n",
      "Epoch 124/200\n",
      "489/489 [==============================] - 0s 41us/step - loss: 0.0482 - acc: 0.9734\n",
      "Epoch 125/200\n",
      "489/489 [==============================] - 0s 43us/step - loss: 0.0497 - acc: 0.9816\n",
      "Epoch 126/200\n",
      "489/489 [==============================] - 0s 41us/step - loss: 0.0628 - acc: 0.9816\n",
      "Epoch 127/200\n",
      "489/489 [==============================] - 0s 39us/step - loss: 0.0525 - acc: 0.9775\n",
      "Epoch 128/200\n",
      "489/489 [==============================] - 0s 41us/step - loss: 0.0512 - acc: 0.9796\n",
      "Epoch 129/200\n",
      "489/489 [==============================] - 0s 43us/step - loss: 0.0612 - acc: 0.9755\n",
      "Epoch 130/200\n",
      "489/489 [==============================] - 0s 41us/step - loss: 0.0457 - acc: 0.9796\n",
      "Epoch 131/200\n",
      "489/489 [==============================] - 0s 39us/step - loss: 0.0553 - acc: 0.9836\n",
      "Epoch 132/200\n",
      "489/489 [==============================] - 0s 41us/step - loss: 0.0503 - acc: 0.9734\n",
      "Epoch 133/200\n",
      "489/489 [==============================] - 0s 40us/step - loss: 0.0502 - acc: 0.9857\n",
      "Epoch 134/200\n",
      "489/489 [==============================] - 0s 39us/step - loss: 0.0604 - acc: 0.9734\n",
      "Epoch 135/200\n",
      "489/489 [==============================] - 0s 39us/step - loss: 0.0490 - acc: 0.9816\n",
      "Epoch 136/200\n",
      "489/489 [==============================] - 0s 39us/step - loss: 0.0472 - acc: 0.9857\n",
      "Epoch 137/200\n",
      "489/489 [==============================] - 0s 43us/step - loss: 0.0464 - acc: 0.9796\n",
      "Epoch 138/200\n",
      "489/489 [==============================] - 0s 41us/step - loss: 0.0452 - acc: 0.9836\n",
      "Epoch 139/200\n",
      "489/489 [==============================] - 0s 41us/step - loss: 0.0550 - acc: 0.9693\n",
      "Epoch 140/200\n",
      "489/489 [==============================] - 0s 41us/step - loss: 0.0542 - acc: 0.9775\n",
      "Epoch 141/200\n",
      "489/489 [==============================] - 0s 41us/step - loss: 0.0509 - acc: 0.9816\n",
      "Epoch 142/200\n",
      "489/489 [==============================] - 0s 43us/step - loss: 0.0543 - acc: 0.9775\n",
      "Epoch 143/200\n",
      "489/489 [==============================] - 0s 45us/step - loss: 0.0537 - acc: 0.9775\n",
      "Epoch 144/200\n",
      "489/489 [==============================] - 0s 37us/step - loss: 0.0464 - acc: 0.9775\n",
      "Epoch 145/200\n",
      "489/489 [==============================] - 0s 41us/step - loss: 0.0480 - acc: 0.9816\n",
      "Epoch 146/200\n",
      "489/489 [==============================] - 0s 41us/step - loss: 0.0479 - acc: 0.9816\n",
      "Epoch 147/200\n",
      "489/489 [==============================] - 0s 41us/step - loss: 0.0461 - acc: 0.9857\n",
      "Epoch 148/200\n",
      "489/489 [==============================] - 0s 41us/step - loss: 0.0436 - acc: 0.9796\n",
      "Epoch 149/200\n",
      "489/489 [==============================] - 0s 39us/step - loss: 0.0491 - acc: 0.9816\n",
      "Epoch 150/200\n",
      "489/489 [==============================] - 0s 39us/step - loss: 0.0445 - acc: 0.9796\n",
      "Epoch 151/200\n",
      "489/489 [==============================] - 0s 39us/step - loss: 0.0484 - acc: 0.9796\n",
      "Epoch 152/200\n",
      "489/489 [==============================] - 0s 39us/step - loss: 0.0487 - acc: 0.9816\n",
      "Epoch 153/200\n",
      "489/489 [==============================] - 0s 37us/step - loss: 0.0535 - acc: 0.9755\n",
      "Epoch 154/200\n",
      "489/489 [==============================] - 0s 41us/step - loss: 0.0445 - acc: 0.9816\n",
      "Epoch 155/200\n",
      "489/489 [==============================] - 0s 41us/step - loss: 0.0528 - acc: 0.9775\n",
      "Epoch 156/200\n",
      "489/489 [==============================] - 0s 43us/step - loss: 0.0513 - acc: 0.9755\n",
      "Epoch 157/200\n",
      "489/489 [==============================] - 0s 41us/step - loss: 0.0602 - acc: 0.9775\n",
      "Epoch 158/200\n",
      "489/489 [==============================] - 0s 39us/step - loss: 0.0456 - acc: 0.9816\n",
      "Epoch 159/200\n",
      "489/489 [==============================] - 0s 39us/step - loss: 0.0480 - acc: 0.9775\n",
      "Epoch 160/200\n",
      "489/489 [==============================] - 0s 39us/step - loss: 0.0501 - acc: 0.9734\n",
      "Epoch 161/200\n",
      "489/489 [==============================] - 0s 39us/step - loss: 0.0509 - acc: 0.9836\n",
      "Epoch 162/200\n",
      "489/489 [==============================] - 0s 39us/step - loss: 0.0470 - acc: 0.9836\n",
      "Epoch 163/200\n",
      "489/489 [==============================] - 0s 41us/step - loss: 0.0471 - acc: 0.9836\n",
      "Epoch 164/200\n",
      "489/489 [==============================] - 0s 39us/step - loss: 0.0483 - acc: 0.9796\n",
      "Epoch 165/200\n",
      "489/489 [==============================] - 0s 39us/step - loss: 0.0475 - acc: 0.9796\n",
      "Epoch 166/200\n",
      "489/489 [==============================] - 0s 39us/step - loss: 0.0520 - acc: 0.9836\n",
      "Epoch 167/200\n"
     ]
    },
    {
     "name": "stdout",
     "output_type": "stream",
     "text": [
      "489/489 [==============================] - 0s 39us/step - loss: 0.0585 - acc: 0.9796\n",
      "Epoch 168/200\n",
      "489/489 [==============================] - 0s 39us/step - loss: 0.0570 - acc: 0.9836\n",
      "Epoch 169/200\n",
      "489/489 [==============================] - 0s 39us/step - loss: 0.0555 - acc: 0.9693\n",
      "Epoch 170/200\n",
      "489/489 [==============================] - 0s 47us/step - loss: 0.0568 - acc: 0.9775\n",
      "Epoch 171/200\n",
      "489/489 [==============================] - 0s 43us/step - loss: 0.0477 - acc: 0.9714\n",
      "Epoch 172/200\n",
      "489/489 [==============================] - 0s 41us/step - loss: 0.0510 - acc: 0.9816\n",
      "Epoch 173/200\n",
      "489/489 [==============================] - 0s 43us/step - loss: 0.0511 - acc: 0.9775\n",
      "Epoch 174/200\n",
      "489/489 [==============================] - 0s 41us/step - loss: 0.0442 - acc: 0.9816\n",
      "Epoch 175/200\n",
      "489/489 [==============================] - 0s 43us/step - loss: 0.0477 - acc: 0.9816\n",
      "Epoch 176/200\n",
      "489/489 [==============================] - 0s 43us/step - loss: 0.0475 - acc: 0.9816\n",
      "Epoch 177/200\n",
      "489/489 [==============================] - 0s 41us/step - loss: 0.0472 - acc: 0.9836\n",
      "Epoch 178/200\n",
      "489/489 [==============================] - 0s 39us/step - loss: 0.0537 - acc: 0.9734\n",
      "Epoch 179/200\n",
      "489/489 [==============================] - ETA: 0s - loss: 0.0142 - acc: 1.000 - 0s 43us/step - loss: 0.0482 - acc: 0.9816\n",
      "Epoch 180/200\n",
      "489/489 [==============================] - 0s 41us/step - loss: 0.0482 - acc: 0.9816\n",
      "Epoch 181/200\n",
      "489/489 [==============================] - 0s 39us/step - loss: 0.0532 - acc: 0.9734\n",
      "Epoch 182/200\n",
      "489/489 [==============================] - 0s 41us/step - loss: 0.0802 - acc: 0.9755\n",
      "Epoch 183/200\n",
      "489/489 [==============================] - 0s 41us/step - loss: 0.0555 - acc: 0.9816\n",
      "Epoch 184/200\n",
      "489/489 [==============================] - 0s 39us/step - loss: 0.0458 - acc: 0.9796\n",
      "Epoch 185/200\n",
      "489/489 [==============================] - 0s 41us/step - loss: 0.0506 - acc: 0.9836\n",
      "Epoch 186/200\n",
      "489/489 [==============================] - 0s 41us/step - loss: 0.0512 - acc: 0.9816\n",
      "Epoch 187/200\n",
      "489/489 [==============================] - 0s 39us/step - loss: 0.0458 - acc: 0.9796\n",
      "Epoch 188/200\n",
      "489/489 [==============================] - 0s 53us/step - loss: 0.0523 - acc: 0.9836\n",
      "Epoch 189/200\n",
      "489/489 [==============================] - 0s 39us/step - loss: 0.0419 - acc: 0.9857\n",
      "Epoch 190/200\n",
      "489/489 [==============================] - 0s 39us/step - loss: 0.0664 - acc: 0.9673\n",
      "Epoch 191/200\n",
      "489/489 [==============================] - 0s 41us/step - loss: 0.0512 - acc: 0.9775\n",
      "Epoch 192/200\n",
      "489/489 [==============================] - 0s 43us/step - loss: 0.0519 - acc: 0.9714\n",
      "Epoch 193/200\n",
      "489/489 [==============================] - 0s 39us/step - loss: 0.0494 - acc: 0.9816\n",
      "Epoch 194/200\n",
      "489/489 [==============================] - 0s 39us/step - loss: 0.0546 - acc: 0.9796\n",
      "Epoch 195/200\n",
      "489/489 [==============================] - 0s 41us/step - loss: 0.0538 - acc: 0.9816\n",
      "Epoch 196/200\n",
      "489/489 [==============================] - 0s 39us/step - loss: 0.0488 - acc: 0.9796\n",
      "Epoch 197/200\n",
      "489/489 [==============================] - 0s 39us/step - loss: 0.0502 - acc: 0.9836\n",
      "Epoch 198/200\n",
      "489/489 [==============================] - 0s 39us/step - loss: 0.0489 - acc: 0.9796\n",
      "Epoch 199/200\n",
      "489/489 [==============================] - 0s 41us/step - loss: 0.0451 - acc: 0.9775\n",
      "Epoch 200/200\n",
      "489/489 [==============================] - 0s 39us/step - loss: 0.0495 - acc: 0.9836\n"
     ]
    },
    {
     "data": {
      "text/plain": [
       "<keras.callbacks.History at 0x19e046ea828>"
      ]
     },
     "execution_count": 54,
     "metadata": {},
     "output_type": "execute_result"
    }
   ],
   "source": [
    "model.fit(X_train, y_train, epochs=200)"
   ]
  },
  {
   "cell_type": "code",
   "execution_count": 55,
   "metadata": {},
   "outputs": [
    {
     "name": "stdout",
     "output_type": "stream",
     "text": [
      "210/210 [==============================] - 0s 310us/step\n",
      "\n",
      "acc: 95.24%\n"
     ]
    }
   ],
   "source": [
    "scores = model.evaluate(X_test, y_test)\n",
    "print(\"\\n%s: %.2f%%\" % (model.metrics_names[1], scores[1]*100))"
   ]
  },
  {
   "cell_type": "code",
   "execution_count": 56,
   "metadata": {
    "collapsed": true
   },
   "outputs": [],
   "source": [
    "y_pred = model.predict(X_test)\n",
    "\n",
    "y_test_class = np.argmax(y_test, axis=1)\n",
    "y_pred_class = np.argmax(y_pred, axis=1)"
   ]
  },
  {
   "cell_type": "code",
   "execution_count": 57,
   "metadata": {},
   "outputs": [
    {
     "name": "stdout",
     "output_type": "stream",
     "text": [
      "             precision    recall  f1-score   support\n",
      "\n",
      "          0       0.98      0.95      0.96       135\n",
      "          1       0.91      0.96      0.94        75\n",
      "\n",
      "avg / total       0.95      0.95      0.95       210\n",
      "\n",
      "[[128   7]\n",
      " [  3  72]]\n"
     ]
    }
   ],
   "source": [
    "from sklearn.metrics import classification_report, confusion_matrix\n",
    "\n",
    "print(classification_report(y_test_class, y_pred_class))\n",
    "print(confusion_matrix(y_test_class, y_pred_class))"
   ]
  }
 ],
 "metadata": {
  "kernelspec": {
   "display_name": "Python 3",
   "language": "python",
   "name": "python3"
  },
  "language_info": {
   "codemirror_mode": {
    "name": "ipython",
    "version": 3
   },
   "file_extension": ".py",
   "mimetype": "text/x-python",
   "name": "python",
   "nbconvert_exporter": "python",
   "pygments_lexer": "ipython3",
   "version": "3.6.3"
  }
 },
 "nbformat": 4,
 "nbformat_minor": 2
}
